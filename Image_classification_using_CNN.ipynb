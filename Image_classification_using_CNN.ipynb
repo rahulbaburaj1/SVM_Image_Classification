{
  "nbformat": 4,
  "nbformat_minor": 0,
  "metadata": {
    "colab": {
      "provenance": []
    },
    "kernelspec": {
      "name": "python3",
      "display_name": "Python 3"
    },
    "language_info": {
      "name": "python"
    }
  },
  "cells": [
    {
      "cell_type": "code",
      "execution_count": null,
      "metadata": {
        "colab": {
          "base_uri": "https://localhost:8080/"
        },
        "id": "7QaYbqlBb5X_",
        "outputId": "d8d2bf63-8bc7-4022-9a30-828fbec5ae2e"
      },
      "outputs": [
        {
          "output_type": "stream",
          "name": "stdout",
          "text": [
            "Mounted at /content/drive\n",
            "Drive already mounted at /content/drive; to attempt to forcibly remount, call drive.mount(\"/content/drive\", force_remount=True).\n"
          ]
        }
      ],
      "source": [
        "from google.colab import drive\n",
        "drive.mount('/content/drive')"
      ]
    },
    {
      "cell_type": "code",
      "source": [
        "import pandas as pd\n",
        "from sklearn.svm import SVC\n",
        "import numpy as np\n",
        "import matplotlib.pyplot as plt\n",
        "import os #file and dictonary path define\n",
        "from skimage.io import imread #used for reading images\n",
        "from sklearn.model_selection import train_test_split\n",
        "from skimage.transform import resize #for resize image"
      ],
      "metadata": {
        "id": "7pEw2A8xe20R"
      },
      "execution_count": null,
      "outputs": []
    },
    {
      "cell_type": "code",
      "source": [
        "os.listdir('/content/drive/MyDrive/Data')"
      ],
      "metadata": {
        "colab": {
          "base_uri": "https://localhost:8080/"
        },
        "id": "6FETiSzAf2hD",
        "outputId": "5f89d283-af7b-4b0e-a5a1-70741ef29a5e"
      },
      "execution_count": null,
      "outputs": [
        {
          "output_type": "execute_result",
          "data": {
            "text/plain": [
              "['Cat', 'Dog']"
            ]
          },
          "metadata": {},
          "execution_count": 3
        },
        {
          "output_type": "execute_result",
          "data": {
            "text/plain": [
              "['Cat', 'Dog']"
            ]
          },
          "metadata": {},
          "execution_count": 13
        }
      ]
    },
    {
      "cell_type": "code",
      "source": [
        "len(os.listdir('/content/drive/MyDrive/Data/Cat'))"
      ],
      "metadata": {
        "colab": {
          "base_uri": "https://localhost:8080/"
        },
        "id": "S9ch0MmjgCiC",
        "outputId": "46aeaab7-b5a6-435b-f4c5-9b503835c94a"
      },
      "execution_count": null,
      "outputs": [
        {
          "output_type": "execute_result",
          "data": {
            "text/plain": [
              "85"
            ]
          },
          "metadata": {},
          "execution_count": 4
        },
        {
          "output_type": "execute_result",
          "data": {
            "text/plain": [
              "85"
            ]
          },
          "metadata": {},
          "execution_count": 14
        }
      ]
    },
    {
      "cell_type": "code",
      "source": [
        "len(os.listdir('/content/drive/MyDrive/Data/Dog'))"
      ],
      "metadata": {
        "colab": {
          "base_uri": "https://localhost:8080/"
        },
        "id": "dMy8rezNgPxc",
        "outputId": "106cc3a6-712d-4ec1-9039-4e9975163b63"
      },
      "execution_count": null,
      "outputs": [
        {
          "output_type": "execute_result",
          "data": {
            "text/plain": [
              "68"
            ]
          },
          "metadata": {},
          "execution_count": 5
        },
        {
          "output_type": "execute_result",
          "data": {
            "text/plain": [
              "68"
            ]
          },
          "metadata": {},
          "execution_count": 15
        }
      ]
    },
    {
      "cell_type": "code",
      "source": [
        "cat_path = os.path.join('/content/drive/MyDrive/Data','Cat') #Data .join cat\n",
        "for img in os.listdir(cat_path):\n",
        "  print(img)\n"
      ],
      "metadata": {
        "colab": {
          "base_uri": "https://localhost:8080/"
        },
        "id": "gBzQrhLmgU08",
        "outputId": "ae555cd7-168c-4091-8f9e-8c1bc49cea84"
      },
      "execution_count": null,
      "outputs": [
        {
          "output_type": "stream",
          "name": "stdout",
          "text": [
            "cat.62.jpg\n",
            "cat.49.jpg\n",
            "cat.76.jpg\n",
            "cat.41.jpg\n",
            "cat.93.jpg\n",
            "cat.88.jpg\n",
            "cat.84.jpg\n",
            "cat.91.jpg\n",
            "cat.89.jpg\n",
            "cat.48.jpg\n",
            "cat.78.jpg\n",
            "cat.39.jpg\n",
            "cat.52.jpg\n",
            "cat.80.jpg\n",
            "cat.99.jpg\n",
            "cat.82.jpg\n",
            "cat.92.jpg\n",
            "cat.97.jpg\n",
            "cat.85.jpg\n",
            "cat.79.jpg\n",
            "cat.72.jpg\n",
            "cat.44.jpg\n",
            "cat.60.jpg\n",
            "cat.95.jpg\n",
            "cat.43.jpg\n",
            "cat.70.jpg\n",
            "cat.65.jpg\n",
            "cat.57.jpg\n",
            "cat.40.jpg\n",
            "cat.94.jpg\n",
            "cat.96.jpg\n",
            "cat.81.jpg\n",
            "cat.67.jpg\n",
            "cat.50.jpg\n",
            "cat.68.jpg\n",
            "cat.73.jpg\n",
            "cat.86.jpg\n",
            "cat.56.jpg\n",
            "cat.71.jpg\n",
            "cat.87.jpg\n",
            "cat.64.jpg\n",
            "cat.59.jpg\n",
            "cat.35.jpg\n",
            "cat.90.jpg\n",
            "cat.36.jpg\n",
            "cat.83.jpg\n",
            "cat.51.jpg\n",
            "cat.98.jpg\n",
            "cat.101.jpg\n",
            "cat.107.jpg\n",
            "cat.77.jpg\n",
            "cat.45.jpg\n",
            "cat.112.jpg\n",
            "cat.63.jpg\n",
            "cat.58.jpg\n",
            "cat.119.jpg\n",
            "cat.37.jpg\n",
            "cat.69.jpg\n",
            "cat.55.jpg\n",
            "cat.113.jpg\n",
            "cat.47.jpg\n",
            "cat.109.jpg\n",
            "cat.74.jpg\n",
            "cat.66.jpg\n",
            "cat.100.jpg\n",
            "cat.61.jpg\n",
            "cat.108.jpg\n",
            "cat.114.jpg\n",
            "cat.54.jpg\n",
            "cat.104.jpg\n",
            "cat.110.jpg\n",
            "cat.46.jpg\n",
            "cat.42.jpg\n",
            "cat.118.jpg\n",
            "cat.53.jpg\n",
            "cat.105.jpg\n",
            "cat.117.jpg\n",
            "cat.111.jpg\n",
            "cat.75.jpg\n",
            "cat.102.jpg\n",
            "cat.106.jpg\n",
            "cat.38.jpg\n",
            "cat.115.jpg\n",
            "cat.103.jpg\n",
            "cat.116.jpg\n",
            "cat.62.jpg\n",
            "cat.49.jpg\n",
            "cat.76.jpg\n",
            "cat.41.jpg\n",
            "cat.93.jpg\n",
            "cat.88.jpg\n",
            "cat.84.jpg\n",
            "cat.91.jpg\n",
            "cat.89.jpg\n",
            "cat.48.jpg\n",
            "cat.78.jpg\n",
            "cat.39.jpg\n",
            "cat.52.jpg\n",
            "cat.80.jpg\n",
            "cat.99.jpg\n",
            "cat.82.jpg\n",
            "cat.92.jpg\n",
            "cat.97.jpg\n",
            "cat.85.jpg\n",
            "cat.79.jpg\n",
            "cat.72.jpg\n",
            "cat.44.jpg\n",
            "cat.60.jpg\n",
            "cat.95.jpg\n",
            "cat.43.jpg\n",
            "cat.70.jpg\n",
            "cat.65.jpg\n",
            "cat.57.jpg\n",
            "cat.40.jpg\n",
            "cat.94.jpg\n",
            "cat.96.jpg\n",
            "cat.81.jpg\n",
            "cat.67.jpg\n",
            "cat.50.jpg\n",
            "cat.68.jpg\n",
            "cat.73.jpg\n",
            "cat.86.jpg\n",
            "cat.56.jpg\n",
            "cat.71.jpg\n",
            "cat.87.jpg\n",
            "cat.64.jpg\n",
            "cat.59.jpg\n",
            "cat.35.jpg\n",
            "cat.90.jpg\n",
            "cat.36.jpg\n",
            "cat.83.jpg\n",
            "cat.51.jpg\n",
            "cat.98.jpg\n",
            "cat.101.jpg\n",
            "cat.107.jpg\n",
            "cat.77.jpg\n",
            "cat.45.jpg\n",
            "cat.112.jpg\n",
            "cat.63.jpg\n",
            "cat.58.jpg\n",
            "cat.119.jpg\n",
            "cat.37.jpg\n",
            "cat.69.jpg\n",
            "cat.55.jpg\n",
            "cat.113.jpg\n",
            "cat.47.jpg\n",
            "cat.109.jpg\n",
            "cat.74.jpg\n",
            "cat.66.jpg\n",
            "cat.100.jpg\n",
            "cat.61.jpg\n",
            "cat.108.jpg\n",
            "cat.114.jpg\n",
            "cat.54.jpg\n",
            "cat.104.jpg\n",
            "cat.110.jpg\n",
            "cat.46.jpg\n",
            "cat.42.jpg\n",
            "cat.118.jpg\n",
            "cat.53.jpg\n",
            "cat.105.jpg\n",
            "cat.117.jpg\n",
            "cat.111.jpg\n",
            "cat.75.jpg\n",
            "cat.102.jpg\n",
            "cat.106.jpg\n",
            "cat.38.jpg\n",
            "cat.115.jpg\n",
            "cat.103.jpg\n",
            "cat.116.jpg\n"
          ]
        }
      ]
    },
    {
      "cell_type": "code",
      "source": [
        "dog_path = os.path.join('/content/drive/MyDrive/Data','Dog')\n",
        "for img in os.listdir(dog_path):\n",
        "  print(img)"
      ],
      "metadata": {
        "colab": {
          "base_uri": "https://localhost:8080/"
        },
        "id": "OCNAvid8h7SS",
        "outputId": "bf4059db-a22e-4d6f-91fc-ea36f257dd5a"
      },
      "execution_count": null,
      "outputs": [
        {
          "output_type": "stream",
          "name": "stdout",
          "text": [
            "dog.9.jpg\n",
            "dog.39.jpg\n",
            "dog.46.jpg\n",
            "dog.59.jpg\n",
            "dog.8.jpg\n",
            "dog.29.jpg\n",
            "dog.31.jpg\n",
            "dog.27.jpg\n",
            "dog.4.jpg\n",
            "dog.53.jpg\n",
            "dog.63.jpg\n",
            "dog.16.jpg\n",
            "dog.40.jpg\n",
            "dog.18.jpg\n",
            "dog.61.jpg\n",
            "dog.66.jpg\n",
            "dog.51.jpg\n",
            "dog.43.jpg\n",
            "dog.64.jpg\n",
            "dog.48.jpg\n",
            "dog.24.jpg\n",
            "dog.55.jpg\n",
            "dog.22.jpg\n",
            "dog.60.jpg\n",
            "dog.52.jpg\n",
            "dog.30.jpg\n",
            "dog.36.jpg\n",
            "dog.12.jpg\n",
            "dog.28.jpg\n",
            "dog.67.jpg\n",
            "dog.58.jpg\n",
            "dog.1.jpg\n",
            "dog.26.jpg\n",
            "dog.41.jpg\n",
            "dog.15.jpg\n",
            "dog.47.jpg\n",
            "dog.6.jpg\n",
            "dog.34.jpg\n",
            "dog.2.jpg\n",
            "dog.57.jpg\n",
            "dog.19.jpg\n",
            "dog.50.jpg\n",
            "dog.23.jpg\n",
            "dog.5.jpg\n",
            "dog.37.jpg\n",
            "dog.21.jpg\n",
            "dog.13.jpg\n",
            "dog.35.jpg\n",
            "dog.45.jpg\n",
            "dog.65.jpg\n",
            "dog.42.jpg\n",
            "dog.49.jpg\n",
            "dog.17.jpg\n",
            "dog.38.jpg\n",
            "dog.7.jpg\n",
            "dog.44.jpg\n",
            "dog.32.jpg\n",
            "dog.3.jpg\n",
            "dog.68.jpg\n",
            "dog.62.jpg\n",
            "dog.33.jpg\n",
            "dog.54.jpg\n",
            "dog.25.jpg\n",
            "dog.11.jpg\n",
            "dog.10.jpg\n",
            "dog.14.jpg\n",
            "dog.20.jpg\n",
            "dog.56.jpg\n",
            "dog.9.jpg\n",
            "dog.39.jpg\n",
            "dog.46.jpg\n",
            "dog.59.jpg\n",
            "dog.8.jpg\n",
            "dog.29.jpg\n",
            "dog.31.jpg\n",
            "dog.27.jpg\n",
            "dog.4.jpg\n",
            "dog.53.jpg\n",
            "dog.63.jpg\n",
            "dog.16.jpg\n",
            "dog.40.jpg\n",
            "dog.18.jpg\n",
            "dog.61.jpg\n",
            "dog.66.jpg\n",
            "dog.51.jpg\n",
            "dog.43.jpg\n",
            "dog.64.jpg\n",
            "dog.48.jpg\n",
            "dog.24.jpg\n",
            "dog.55.jpg\n",
            "dog.22.jpg\n",
            "dog.60.jpg\n",
            "dog.52.jpg\n",
            "dog.30.jpg\n",
            "dog.36.jpg\n",
            "dog.12.jpg\n",
            "dog.28.jpg\n",
            "dog.67.jpg\n",
            "dog.58.jpg\n",
            "dog.1.jpg\n",
            "dog.26.jpg\n",
            "dog.41.jpg\n",
            "dog.15.jpg\n",
            "dog.47.jpg\n",
            "dog.6.jpg\n",
            "dog.34.jpg\n",
            "dog.2.jpg\n",
            "dog.57.jpg\n",
            "dog.19.jpg\n",
            "dog.50.jpg\n",
            "dog.23.jpg\n",
            "dog.5.jpg\n",
            "dog.37.jpg\n",
            "dog.21.jpg\n",
            "dog.13.jpg\n",
            "dog.35.jpg\n",
            "dog.45.jpg\n",
            "dog.65.jpg\n",
            "dog.42.jpg\n",
            "dog.49.jpg\n",
            "dog.17.jpg\n",
            "dog.38.jpg\n",
            "dog.7.jpg\n",
            "dog.44.jpg\n",
            "dog.32.jpg\n",
            "dog.3.jpg\n",
            "dog.68.jpg\n",
            "dog.62.jpg\n",
            "dog.33.jpg\n",
            "dog.54.jpg\n",
            "dog.25.jpg\n",
            "dog.11.jpg\n",
            "dog.10.jpg\n",
            "dog.14.jpg\n",
            "dog.20.jpg\n",
            "dog.56.jpg\n"
          ]
        }
      ]
    },
    {
      "cell_type": "code",
      "source": [
        "flat_data_arr=[] # usr=ed for collecting input variable\n",
        "target_arr=[] # used fro collecting output variable\n",
        "categories=['Cat','Dog'] ##cat==>cat>>0 Dog==>1\n",
        "datadir='/content/drive/MyDrive/Data'"
      ],
      "metadata": {
        "id": "uhvpWBFGiF28"
      },
      "execution_count": null,
      "outputs": []
    },
    {
      "cell_type": "code",
      "source": [
        "for i in categories:\n",
        "  print(\"Loading Categories------------\")#cat\n",
        "  path=os.path.join(datadir,i)\n",
        "  for img in os.listdir(path):\n",
        "    img_arr=imread(os.path.join(path,img))\n",
        "    img_resize=resize(img_arr,(150,150,3))\n",
        "    flat_data_arr.append(img_resize.flatten())#flatten to one dim\n",
        "    target_arr.append(categories.index(i))\n",
        "  print(\"Loaded Completly\",i)\n"
      ],
      "metadata": {
        "colab": {
          "base_uri": "https://localhost:8080/"
        },
        "id": "rBFIgBpnkh5r",
        "outputId": "142ae89e-cbc7-4a54-f9d0-dc773bf0b84a"
      },
      "execution_count": null,
      "outputs": [
        {
          "output_type": "stream",
          "name": "stdout",
          "text": [
            "Loading Categories------------\n",
            "Loaded Completly Cat\n",
            "Loading Categories------------\n",
            "Loaded Completly Dog\n",
            "Loading Categories------------\n",
            "Loaded Completly Cat\n",
            "Loading Categories------------\n",
            "Loaded Completly Dog\n"
          ]
        }
      ]
    },
    {
      "cell_type": "code",
      "source": [
        "flat_data=np.array(flat_data_arr)#convert into arrray\n",
        "target_data=np.array(target_arr)#converted into array\n",
        "\n",
        "df=pd.DataFrame(flat_data)\n",
        "df['Target'] = target_data"
      ],
      "metadata": {
        "id": "cnDSEy3pnQ1t"
      },
      "execution_count": null,
      "outputs": []
    },
    {
      "cell_type": "code",
      "source": [
        "x=df.iloc[:,:-1]\n",
        "y=df.iloc[:,-1]\n",
        "x_train,x_test,y_train,y_test=train_test_split(x,y,test_size=0.2,random_state=42)"
      ],
      "metadata": {
        "id": "DMpN1Vmi2WU_"
      },
      "execution_count": null,
      "outputs": []
    },
    {
      "cell_type": "code",
      "source": [
        "from sklearn.svm import SVC\n",
        "model = SVC()\n",
        "model.fit(x_train,y_train)\n",
        "y_pred = model.predict(x_test)\n",
        "y_pred"
      ],
      "metadata": {
        "colab": {
          "base_uri": "https://localhost:8080/"
        },
        "id": "bnj_ULQb1XIB",
        "outputId": "383141f9-f402-4033-b07a-274bc08cd0d6"
      },
      "execution_count": null,
      "outputs": [
        {
          "output_type": "execute_result",
          "data": {
            "text/plain": [
              "array([1, 0, 0, 0, 0, 1, 0, 0, 0, 0, 0, 1, 0, 0, 0, 0, 0, 0, 0, 0, 0, 1,\n",
              "       0, 0, 1, 0, 0, 0, 1, 0, 0])"
            ]
          },
          "metadata": {},
          "execution_count": 22
        }
      ]
    },
    {
      "cell_type": "code",
      "source": [
        "from sklearn.metrics import confusion_matrix,accuracy_score\n",
        "print(\"Accuracy score = \",accuracy_score(y_test,y_pred))"
      ],
      "metadata": {
        "colab": {
          "base_uri": "https://localhost:8080/"
        },
        "id": "i7XKinYP3nK4",
        "outputId": "a7cc06c9-5113-4c3b-c51d-4b3020386e5b"
      },
      "execution_count": null,
      "outputs": [
        {
          "output_type": "stream",
          "name": "stdout",
          "text": [
            "Accuracy score =  0.6451612903225806\n"
          ]
        }
      ]
    },
    {
      "cell_type": "code",
      "source": [
        "path1 = '/content/drive/MyDrive/dog.68.jpg'\n",
        "img = imread(path1)\n",
        "img = resize(img,(150,150,3)).flatten().reshape(1,-1)\n",
        "model.predict(img)"
      ],
      "metadata": {
        "colab": {
          "base_uri": "https://localhost:8080/"
        },
        "id": "ITAEVj3g3-Rx",
        "outputId": "cc2771f8-495c-4837-b7c1-bedc4b9458e8"
      },
      "execution_count": null,
      "outputs": [
        {
          "output_type": "execute_result",
          "data": {
            "text/plain": [
              "array([1])"
            ]
          },
          "metadata": {},
          "execution_count": 26
        }
      ]
    }
  ]
}